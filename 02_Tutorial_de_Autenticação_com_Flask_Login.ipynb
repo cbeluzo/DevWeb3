{
  "cells": [
    {
      "cell_type": "markdown",
      "source": [
        "# Tutorial de Autenticação com Flask-Login\n",
        "\n",
        "Este guia detalhado vai te ensinar a proteger rotas e gerenciar o acesso de usuários em sua aplicação Flask, usando a extensão Flask-Login.\n",
        "\n",
        "### 1\\. Instalação e Configuração\n",
        "\n",
        "Para começar, você precisa instalar a extensão `Flask-Login` e o `Werkzeug`, que é uma biblioteca para criptografia de senhas.\n",
        "\n",
        "1.  **Instale as Extensões:**\n",
        "\n",
        "      * Abra o terminal do PyCharm.\n",
        "      * Execute os seguintes comandos para instalar as bibliotecas necessárias:\n",
        "        ```bash\n",
        "        pip install Flask-Login Werkzeug\n",
        "        ```\n",
        "\n",
        "2.  **Salve as Dependências:**\n",
        "\n",
        "      * Salve as novas dependências no seu arquivo `requirements.txt`:\n",
        "        ```bash\n",
        "        pip freeze > requirements.txt\n",
        "        ```\n",
        "\n",
        "3.  **Configure o `Flask-Login`:**\n",
        "\n",
        "      * Abra seu arquivo `app.py` e adicione o código de configuração.\n",
        "      * Você precisará de uma chave secreta para a sua aplicação e para o gerenciador de login. Use sempre o `app.config` para definir as configurações.\n",
        "\n",
        "    **`app.py`**"
      ],
      "metadata": {
        "id": "0bSBcoeR-iZY"
      }
    },
    {
      "cell_type": "code",
      "source": [
        "from flask import Flask, render_template, redirect, url_for, flash\n",
        "from flask_sqlalchemy import SQLAlchemy\n",
        "from flask_login import LoginManager, UserMixin, login_user, login_required, logout_user, current_user\n",
        "from werkzeug.security import generate_password_hash, check_password_hash\n",
        "\n",
        "app = Flask(__name__)\n",
        "app.config['SECRET_KEY'] = 'uma-chave-secreta-forte'\n",
        "app.config['SQLALCHEMY_DATABASE_URI'] = 'sqlite:///site.db'\n",
        "app.config['SQLALCHEMY_TRACK_MODIFICATIONS'] = False\n",
        "\n",
        "db = SQLAlchemy(app)\n",
        "login_manager = LoginManager()\n",
        "login_manager.init_app(app)\n",
        "login_manager.login_view = 'login' # Define a rota para o login\n",
        "login_manager.login_message = 'Por favor, faça login para acessar esta página'\n",
        "login_manager.login_message_category = 'warning'\n",
        "\n",
        "# Funcao de carregamento do usuario para o Flask-Login\n",
        "@login_manager.user_loader\n",
        "def load_user(user_id):\n",
        "    return Usuario.query.get(int(user_id))\n",
        "\n",
        "# Classe de modelo do Usuario\n",
        "class Usuario(db.Model, UserMixin):\n",
        "    id = db.Column(db.Integer, primary_key=True)\n",
        "    nome = db.Column(db.String(50), nullable=False)\n",
        "    email = db.Column(db.String(120), unique=True, nullable=False)\n",
        "    senha = db.Column(db.String(60), nullable=False)\n",
        "\n",
        "    def __repr__(self):\n",
        "        return f\"Usuario('{self.nome}', '{self.email}')\"\n",
        "\n",
        "with app.app_context():\n",
        "    db.create_all()"
      ],
      "outputs": [],
      "execution_count": null,
      "metadata": {
        "id": "EcwdKMHL-iZZ"
      }
    },
    {
      "cell_type": "markdown",
      "source": [
        "A classe `Usuario` herda de `UserMixin`, que fornece implementações padrão para propriedades e métodos que o Flask-Login espera, como `is_authenticated`, `is_active`, `is_anonymous` e `get_id()`.\n",
        "\n",
        "-----\n",
        "\n",
        "### 2\\. Criando o Fluxo de Autenticação\n",
        "\n",
        "Agora vamos construir as rotas e os templates para as funcionalidades de login, logout e registro de usuário.\n",
        "\n",
        "#### Registro de Usuário\n",
        "\n",
        "Primeiro, crie uma rota para o registro. É aqui que os novos usuários criarão suas contas. **Sempre faça hash das senhas** antes de salvá-las no banco de dados para garantir a segurança.\n",
        "\n",
        "**`app.py`**"
      ],
      "metadata": {
        "id": "_gX3YkB6-iZa"
      }
    },
    {
      "cell_type": "code",
      "source": [
        "# Rota para o registro de novos usuários\n",
        "@app.route('/registro', methods=['GET', 'POST'])\n",
        "def registro():\n",
        "    if request.method == 'POST':\n",
        "        hashed_senha = generate_password_hash(request.form.get('senha'), method='sha256')\n",
        "        novo_usuario = Usuario(\n",
        "            nome=request.form.get('nome'),\n",
        "            email=request.form.get('email'),\n",
        "            senha=hashed_senha\n",
        "        )\n",
        "        db.session.add(novo_usuario)\n",
        "        db.session.commit()\n",
        "        flash('Sua conta foi criada! Agora você pode fazer o login.', 'success')\n",
        "        return redirect(url_for('login'))\n",
        "    return render_template('registro.html')"
      ],
      "outputs": [],
      "execution_count": null,
      "metadata": {
        "id": "358z82om-iZa"
      }
    },
    {
      "cell_type": "markdown",
      "source": [
        "**`templates/registro.html`**\n",
        "\n",
        "```html\n",
        "{% extends \"layout.html\" %}\n",
        "{% block content %}\n",
        "    <h2>Registro</h2>\n",
        "    <form method=\"POST\">\n",
        "        <div>\n",
        "            <label for=\"nome\">Nome:</label>\n",
        "            <input type=\"text\" id=\"nome\" name=\"nome\" required>\n",
        "        </div>\n",
        "        <div>\n",
        "            <label for=\"email\">Email:</label>\n",
        "            <input type=\"email\" id=\"email\" name=\"email\" required>\n",
        "        </div>\n",
        "        <div>\n",
        "            <label for=\"senha\">Senha:</label>\n",
        "            <input type=\"password\" id=\"senha\" name=\"senha\" required>\n",
        "        </div>\n",
        "        <button type=\"submit\">Registrar</button>\n",
        "    </form>\n",
        "{% endblock %}\n",
        "```\n",
        "\n",
        "#### Login do Usuário\n",
        "\n",
        "A rota de login verificará as credenciais do usuário. Usamos `check_password_hash()` para comparar a senha fornecida com o hash salvo no banco de dados.\n",
        "\n",
        "**`app.py`**"
      ],
      "metadata": {
        "id": "A-Dflhgc-iZa"
      }
    },
    {
      "cell_type": "code",
      "source": [
        "# Rota para o login\n",
        "@app.route('/login', methods=['GET', 'POST'])\n",
        "def login():\n",
        "    if current_user.is_authenticated:\n",
        "        return redirect(url_for('home'))\n",
        "\n",
        "    if request.method == 'POST':\n",
        "        usuario = Usuario.query.filter_by(email=request.form.get('email')).first()\n",
        "        if usuario and check_password_hash(usuario.senha, request.form.get('senha')):\n",
        "            login_user(usuario)\n",
        "            flash('Login realizado com sucesso!', 'success')\n",
        "            next_page = request.args.get('next')\n",
        "            return redirect(next_page or url_for('dashboard'))\n",
        "        else:\n",
        "            flash('Email ou senha incorretos.', 'error')\n",
        "            return redirect(url_for('login'))\n",
        "\n",
        "    return render_template('login.html')"
      ],
      "outputs": [],
      "execution_count": null,
      "metadata": {
        "id": "bCwPNQtS-iZa"
      }
    },
    {
      "cell_type": "markdown",
      "source": [
        "**`templates/login.html`**\n",
        "\n",
        "```html\n",
        "{% extends \"layout.html\" %}\n",
        "{% block content %}\n",
        "    <h2>Login</h2>\n",
        "    <form method=\"POST\">\n",
        "        <div>\n",
        "            <label for=\"email\">Email:</label>\n",
        "            <input type=\"email\" id=\"email\" name=\"email\" required>\n",
        "        </div>\n",
        "        <div>\n",
        "            <label for=\"senha\">Senha:</label>\n",
        "            <input type=\"password\" id=\"senha\" name=\"senha\" required>\n",
        "        </div>\n",
        "        <button type=\"submit\">Entrar</button>\n",
        "    </form>\n",
        "{% endblock %}\n",
        "```\n",
        "\n",
        "#### Logout do Usuário\n",
        "\n",
        "A rota de logout é simples, basta chamar a função `logout_user()` do Flask-Login para remover o usuário da sessão.\n",
        "\n",
        "**`app.py`**"
      ],
      "metadata": {
        "id": "Wx8q226o-iZb"
      }
    },
    {
      "cell_type": "code",
      "source": [
        "# Rota para o logout\n",
        "@app.route('/logout')\n",
        "@login_required # Protege a rota para que apenas usuarios logados possam acessa-la\n",
        "def logout():\n",
        "    logout_user()\n",
        "    flash('Você foi desconectado.', 'info')\n",
        "    return redirect(url_for('home'))"
      ],
      "outputs": [],
      "execution_count": null,
      "metadata": {
        "id": "lp4mgdNj-iZb"
      }
    },
    {
      "cell_type": "markdown",
      "source": [
        "-----\n",
        "\n",
        "### 3\\. Protegendo Rotas com `login_required`\n",
        "\n",
        "O decorador `@login_required` do Flask-Login é a maneira mais fácil de proteger uma rota. Se um usuário tentar acessar uma rota protegida sem estar logado, ele será redirecionado para a página de login.\n",
        "\n",
        "**`app.py`**"
      ],
      "metadata": {
        "id": "OmY4ZxQZ-iZb"
      }
    },
    {
      "cell_type": "code",
      "source": [
        "# Rota de exemplo protegida\n",
        "@app.route('/dashboard')\n",
        "@login_required\n",
        "def dashboard():\n",
        "    return render_template('dashboard.html')"
      ],
      "outputs": [],
      "execution_count": null,
      "metadata": {
        "id": "_T_D_O47-iZb"
      }
    },
    {
      "cell_type": "markdown",
      "source": [
        "**`templates/dashboard.html`**\n",
        "\n",
        "```html\n",
        "{% extends \"layout.html\" %}\n",
        "{% block content %}\n",
        "    <h2>Dashboard</h2>\n",
        "    <p>Olá, {{ current_user.nome }}! Bem-vindo ao seu painel.</p>\n",
        "{% endblock %}\n",
        "```\n",
        "\n",
        "O objeto `current_user` fica disponível em todas as views e templates, permitindo que você acesse as informações do usuário logado.\n",
        "\n",
        "-----\n",
        "\n",
        "### 4\\. Dica de Segurança\n",
        "\n",
        "Nunca use senhas em texto puro\\! Sempre faça o hash das senhas antes de salvar no banco de dados. A extensão **Werkzeug** é a ferramenta ideal para isso."
      ],
      "metadata": {
        "id": "wdgXoGhA-iZc"
      }
    },
    {
      "cell_type": "code",
      "source": [
        "# Para fazer o hash da senha:\n",
        "hashed_password = generate_password_hash('senha123')\n",
        "\n",
        "# Para verificar a senha no login:\n",
        "check_password_hash(hashed_password, 'senha123')"
      ],
      "outputs": [],
      "execution_count": null,
      "metadata": {
        "id": "yHZAuOFU-iZc"
      }
    }
  ],
  "metadata": {
    "colab": {
      "provenance": []
    },
    "kernelspec": {
      "display_name": "Python 3",
      "name": "python3"
    }
  },
  "nbformat": 4,
  "nbformat_minor": 0
}