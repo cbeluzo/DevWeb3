{
  "cells": [
    {
      "cell_type": "markdown",
      "source": [
        "### 1\\. O que são Blueprints?\n",
        "\n",
        "Blueprints, ou \"plantas\", são componentes que permitem organizar uma aplicação Flask em múltiplos \"mini-aplicativos\" modulares. Cada Blueprint pode ter suas próprias rotas, templates, arquivos estáticos e lógica de negócio. Eles não são aplicações independentes, mas precisam ser registrados em uma aplicação Flask principal para se tornarem ativos.\n",
        "\n",
        "Usar Blueprints torna sua aplicação mais:\n",
        "\n",
        "  * **Modular**: O código é dividido em componentes lógicos.\n",
        "  * **Reutilizável**: Componentes podem ser facilmente reutilizados em diferentes projetos.\n",
        "  * **Organizada**: A estrutura do projeto fica mais clara, com cada funcionalidade em seu próprio diretório.\n",
        "  * **Gerenciável**: A manutenção se torna mais simples, pois cada parte do código está em seu lugar.\n",
        "\n",
        "-----\n",
        "\n",
        "### 2\\. Estrutura de Projeto Completa\n",
        "\n",
        "Para este tutorial, a estrutura do seu projeto deve ser a seguinte. Crie as pastas e os arquivos exatamente como mostrado abaixo.\n",
        "\n",
        "```\n",
        "/meu_projeto\n",
        "|-- run.py              # Script para iniciar a aplicação\n",
        "|-- /app                # Onde a aplicação principal é criada e os blueprints são registrados\n",
        "|   |-- __init__.py     # Criação da aplicação principal\n",
        "|   |-- /auth           # Módulo para autenticação\n",
        "|   |   |-- __init__.py     # Criação do Blueprint 'auth'\n",
        "|   |   |-- routes.py       # Rotas de login, registro, logout, etc.\n",
        "|   |   |-- /templates/auth/ # Templates específicos para o módulo\n",
        "|   |   |   |-- login.html\n",
        "|   |   |   |-- registro.html\n",
        "|   |-- /main           # Módulo principal da aplicação\n",
        "|   |   |-- __init__.py     # Criação do Blueprint 'main'\n",
        "|   |   |-- routes.py       # Rotas principais (home, sobre, etc.)\n",
        "|   |   |-- /templates/main/ # Templates específicos para o módulo\n",
        "|   |   |   |-- home.html\n",
        "|   |-- /templates      # Templates globais (como o layout.html)\n",
        "|   |   |-- layout.html\n",
        "|-- requirements.txt\n",
        "```\n",
        "\n",
        "-----\n",
        "\n",
        "### 3\\. Criando e Registrando os Blueprints\n",
        "\n",
        "Vamos criar e registrar os Blueprints para a nossa aplicação.\n",
        "\n",
        "#### Passo 1: O Script de Execução (`run.py`)\n",
        "\n",
        "Este será o único arquivo que você executará para iniciar sua aplicação.\n",
        "\n",
        "**`run.py`**"
      ],
      "metadata": {
        "id": "jkI4VNEI4jNI"
      }
    },
    {
      "cell_type": "code",
      "source": [
        "from app import create_app\n",
        "\n",
        "app = create_app()\n",
        "\n",
        "if __name__ == '__main__':\n",
        "    app.run(debug=True)"
      ],
      "outputs": [],
      "execution_count": null,
      "metadata": {
        "id": "QwgK8Lhd4jNK"
      }
    },
    {
      "cell_type": "markdown",
      "source": [
        "#### Passo 2: A Aplicação Principal (`app/__init__.py`)\n",
        "\n",
        "Este arquivo centraliza a criação da aplicação Flask e o registro de todos os Blueprints.\n",
        "\n",
        "**`app/__init__.py`**"
      ],
      "metadata": {
        "id": "ft4Bqd7H4jNL"
      }
    },
    {
      "cell_type": "code",
      "source": [
        "from flask import Flask\n",
        "\n",
        "def create_app():\n",
        "    app = Flask(__name__)\n",
        "    app.config['SECRET_KEY'] = 'uma-chave-secreta-forte'\n",
        "\n",
        "    # Importa e registra o Blueprint 'main'\n",
        "    from .main import main as main_blueprint\n",
        "    app.register_blueprint(main_blueprint)\n",
        "\n",
        "    # Importa e registra o Blueprint 'auth' com um prefixo de URL\n",
        "    from .auth import auth as auth_blueprint\n",
        "    app.register_blueprint(auth_blueprint, url_prefix='/auth')\n",
        "\n",
        "    return app"
      ],
      "outputs": [],
      "execution_count": null,
      "metadata": {
        "id": "RBvCAHiQ4jNL"
      }
    },
    {
      "cell_type": "markdown",
      "source": [
        "#### Passo 3: O Blueprint de Autenticação (`app/auth/__init__.py`)\n",
        "\n",
        "Cria a instância do Blueprint para o módulo de autenticação.\n",
        "\n",
        "**`app/auth/__init__.py`**"
      ],
      "metadata": {
        "id": "NVl1xiUK4jNM"
      }
    },
    {
      "cell_type": "code",
      "source": [
        "from flask import Blueprint\n",
        "\n",
        "# Cria uma instância do Blueprint com o nome 'auth'\n",
        "# O 'template_folder' informa onde o Flask deve procurar os templates\n",
        "auth = Blueprint('auth', __name__, template_folder='templates')\n",
        "\n",
        "from . import routes"
      ],
      "outputs": [],
      "execution_count": null,
      "metadata": {
        "id": "PbJuZLJt4jNM"
      }
    },
    {
      "cell_type": "markdown",
      "source": [
        "#### Passo 4: As Rotas de Autenticação (`app/auth/routes.py`)\n",
        "\n",
        "Define as rotas de login e registro, usando o objeto `auth`.\n",
        "\n",
        "**`app/auth/routes.py`**"
      ],
      "metadata": {
        "id": "NTa31m9i4jNM"
      }
    },
    {
      "cell_type": "code",
      "source": [
        "from flask import render_template\n",
        "from . import auth\n",
        "\n",
        "@auth.route('/login')\n",
        "def login():\n",
        "    return render_template('auth/login.html')\n",
        "\n",
        "@auth.route('/registro')\n",
        "def registro():\n",
        "    return render_template('auth/registro.html')"
      ],
      "outputs": [],
      "execution_count": null,
      "metadata": {
        "id": "FMW39RJL4jNN"
      }
    },
    {
      "cell_type": "markdown",
      "source": [
        "#### Passo 5: O Blueprint Principal (`app/main/__init__.py`)\n",
        "\n",
        "Cria a instância do Blueprint para o módulo principal da aplicação.\n",
        "\n",
        "**`app/main/__init__.py`**"
      ],
      "metadata": {
        "id": "8r3dejn84jNN"
      }
    },
    {
      "cell_type": "code",
      "source": [
        "from flask import Blueprint\n",
        "\n",
        "# Cria uma instância do Blueprint com o nome 'main'\n",
        "main = Blueprint('main', __name__, template_folder='templates')\n",
        "\n",
        "from . import routes"
      ],
      "outputs": [],
      "execution_count": null,
      "metadata": {
        "id": "ubwrzSVt4jNN"
      }
    },
    {
      "cell_type": "markdown",
      "source": [
        "#### Passo 6: As Rotas Principais (`app/main/routes.py`)\n",
        "\n",
        "Define as rotas principais como 'home' e 'sobre', usando o objeto `main`.\n",
        "\n",
        "**`app/main/routes.py`**"
      ],
      "metadata": {
        "id": "rLSmY7d24jNO"
      }
    },
    {
      "cell_type": "code",
      "source": [
        "from flask import render_template\n",
        "from . import main\n",
        "\n",
        "@main.route('/')\n",
        "@main.route('/home')\n",
        "def home():\n",
        "    return render_template('main/home.html')\n",
        "\n",
        "@main.route('/sobre')\n",
        "def sobre():\n",
        "    return 'Página sobre'"
      ],
      "outputs": [],
      "execution_count": null,
      "metadata": {
        "id": "vVUyCuFJ4jNO"
      }
    },
    {
      "cell_type": "markdown",
      "source": [
        "-----\n",
        "\n",
        "### 4\\. Criando os Templates HTML\n",
        "\n",
        "Agora, vamos criar os templates que serão renderizados pelas rotas. A herança de templates garante que o layout seja consistente.\n",
        "\n",
        "#### O Template Global (`app/templates/layout.html`)\n",
        "\n",
        "Este é o template base que todos os outros templates estenderão.\n",
        "\n",
        "**`app/templates/layout.html`**\n",
        "\n",
        "```html\n",
        "<!DOCTYPE html>\n",
        "<html lang=\"pt-br\">\n",
        "<head>\n",
        "    <title>{% block title %}Meu Site{% endblock %}</title>\n",
        "</head>\n",
        "<body>\n",
        "    <header>\n",
        "        <nav>\n",
        "            <a href=\"{{ url_for('main.home') }}\">Home</a>\n",
        "            <a href=\"{{ url_for('auth.login') }}\">Login</a>\n",
        "            <a href=\"{{ url_for('auth.registro') }}\">Registro</a>\n",
        "        </nav>\n",
        "    </header>\n",
        "    <main>\n",
        "        {% block content %}{% endblock %}\n",
        "    </main>\n",
        "</body>\n",
        "</html>\n",
        "```\n",
        "\n",
        "#### O Template de Login (`app/auth/templates/auth/login.html`)\n",
        "\n",
        "Este template é específico do Blueprint `auth`.\n",
        "\n",
        "**`app/auth/templates/auth/login.html`**\n",
        "\n",
        "```html\n",
        "{% extends \"layout.html\" %}\n",
        "\n",
        "{% block title %}Login{% endblock %}\n",
        "\n",
        "{% block content %}\n",
        "    <h2>Página de Login</h2>\n",
        "    <p>Este template está no Blueprint 'auth'.</p>\n",
        "{% endblock %}\n",
        "```\n",
        "\n",
        "#### O Template de Registro (`app/auth/templates/auth/registro.html`)\n",
        "\n",
        "Este template também pertence ao Blueprint `auth`.\n",
        "\n",
        "**`app/auth/templates/auth/registro.html`**\n",
        "\n",
        "```html\n",
        "{% extends \"layout.html\" %}\n",
        "\n",
        "{% block title %}Registro{% endblock %}\n",
        "\n",
        "{% block content %}\n",
        "    <h2>Página de Registro</h2>\n",
        "    <p>Este template também está no Blueprint 'auth'.</p>\n",
        "{% endblock %}\n",
        "```\n",
        "\n",
        "#### O Template da Home (`app/main/templates/main/home.html`)\n",
        "\n",
        "Este template pertence ao Blueprint `main`.\n",
        "\n",
        "**`app/main/templates/main/home.html`**\n",
        "\n",
        "```html\n",
        "{% extends \"layout.html\" %}\n",
        "\n",
        "{% block title %}Home{% endblock %}\n",
        "\n",
        "{% block content %}\n",
        "    <h2>Página Inicial</h2>\n",
        "    <p>Este template está no Blueprint 'main'.</p>\n",
        "{% endblock %}\n",
        "```\n",
        "\n",
        "-----\n",
        "\n",
        "### 5\\. Executando a Aplicação\n",
        "\n",
        "Com a estrutura completa, você pode executar o `run.py` no terminal:\n",
        "\n",
        "```bash\n",
        "python run.py\n",
        "```\n",
        "\n",
        "Sua aplicação estará rodando. Ao navegar para `http://127.0.0.1:5000/`, você verá a página inicial. As rotas `/auth/login` e `/auth/registro` também estarão funcionando, demonstrando como os Blueprints organizam e prefixam as rotas de forma lógica."
      ],
      "metadata": {
        "id": "Typ2GjH34jNO"
      }
    }
  ],
  "metadata": {
    "colab": {
      "provenance": []
    },
    "kernelspec": {
      "display_name": "Python 3",
      "name": "python3"
    }
  },
  "nbformat": 4,
  "nbformat_minor": 0
}